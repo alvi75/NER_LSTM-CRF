{
 "cells": [
  {
   "cell_type": "code",
   "execution_count": 1,
   "metadata": {},
   "outputs": [],
   "source": [
    "import pandas as pd\n",
    "import numpy as np\n",
    "\n",
    "data = pd.read_csv(r\"C:\\Users\\ALVI\\Downloads\\Compressed\\1014_4361_bundle_archive\\Bangla_NER_Dataset.csv\", encoding=\"UTF-8\")\n"
   ]
  },
  {
   "cell_type": "code",
   "execution_count": 2,
   "metadata": {},
   "outputs": [],
   "source": [
    "data = data.fillna(method=\"ffill\")\n"
   ]
  },
  {
   "cell_type": "code",
   "execution_count": 3,
   "metadata": {},
   "outputs": [
    {
     "data": {
      "text/html": [
       "<div>\n",
       "<style scoped>\n",
       "    .dataframe tbody tr th:only-of-type {\n",
       "        vertical-align: middle;\n",
       "    }\n",
       "\n",
       "    .dataframe tbody tr th {\n",
       "        vertical-align: top;\n",
       "    }\n",
       "\n",
       "    .dataframe thead th {\n",
       "        text-align: right;\n",
       "    }\n",
       "</style>\n",
       "<table border=\"1\" class=\"dataframe\">\n",
       "  <thead>\n",
       "    <tr style=\"text-align: right;\">\n",
       "      <th></th>\n",
       "      <th>Sentence #</th>\n",
       "      <th>Word</th>\n",
       "      <th>Tag</th>\n",
       "    </tr>\n",
       "  </thead>\n",
       "  <tbody>\n",
       "    <tr>\n",
       "      <th>297407</th>\n",
       "      <td>Sentence: 22145</td>\n",
       "      <td>ফিরে</td>\n",
       "      <td>O</td>\n",
       "    </tr>\n",
       "    <tr>\n",
       "      <th>297408</th>\n",
       "      <td>Sentence: 22145</td>\n",
       "      <td>এসে</td>\n",
       "      <td>O</td>\n",
       "    </tr>\n",
       "    <tr>\n",
       "      <th>297409</th>\n",
       "      <td>Sentence: 22145</td>\n",
       "      <td>ভালোবাসা</td>\n",
       "      <td>O</td>\n",
       "    </tr>\n",
       "    <tr>\n",
       "      <th>297410</th>\n",
       "      <td>Sentence: 22145</td>\n",
       "      <td>নিয়েই</td>\n",
       "      <td>O</td>\n",
       "    </tr>\n",
       "    <tr>\n",
       "      <th>297411</th>\n",
       "      <td>Sentence: 22145</td>\n",
       "      <td>নতুন</td>\n",
       "      <td>O</td>\n",
       "    </tr>\n",
       "    <tr>\n",
       "      <th>297412</th>\n",
       "      <td>Sentence: 22145</td>\n",
       "      <td>করে</td>\n",
       "      <td>O</td>\n",
       "    </tr>\n",
       "    <tr>\n",
       "      <th>297413</th>\n",
       "      <td>Sentence: 22145</td>\n",
       "      <td>শুরু</td>\n",
       "      <td>O</td>\n",
       "    </tr>\n",
       "    <tr>\n",
       "      <th>297414</th>\n",
       "      <td>Sentence: 22145</td>\n",
       "      <td>হোক</td>\n",
       "      <td>O</td>\n",
       "    </tr>\n",
       "    <tr>\n",
       "      <th>297415</th>\n",
       "      <td>Sentence: 22145</td>\n",
       "      <td>পথ</td>\n",
       "      <td>O</td>\n",
       "    </tr>\n",
       "    <tr>\n",
       "      <th>297416</th>\n",
       "      <td>Sentence: 22145</td>\n",
       "      <td>চলা</td>\n",
       "      <td>O</td>\n",
       "    </tr>\n",
       "  </tbody>\n",
       "</table>\n",
       "</div>"
      ],
      "text/plain": [
       "             Sentence #      Word Tag\n",
       "297407  Sentence: 22145      ফিরে   O\n",
       "297408  Sentence: 22145       এসে   O\n",
       "297409  Sentence: 22145  ভালোবাসা   O\n",
       "297410  Sentence: 22145     নিয়েই   O\n",
       "297411  Sentence: 22145      নতুন   O\n",
       "297412  Sentence: 22145       করে   O\n",
       "297413  Sentence: 22145      শুরু   O\n",
       "297414  Sentence: 22145       হোক   O\n",
       "297415  Sentence: 22145        পথ   O\n",
       "297416  Sentence: 22145       চলা   O"
      ]
     },
     "execution_count": 3,
     "metadata": {},
     "output_type": "execute_result"
    }
   ],
   "source": [
    "data.tail(10)\n"
   ]
  },
  {
   "cell_type": "code",
   "execution_count": 4,
   "metadata": {},
   "outputs": [
    {
     "data": {
      "text/plain": [
       "34236"
      ]
     },
     "execution_count": 4,
     "metadata": {},
     "output_type": "execute_result"
    }
   ],
   "source": [
    "words = list(set(data[\"Word\"].values))\n",
    "n_words = len(words); n_words\n"
   ]
  },
  {
   "cell_type": "code",
   "execution_count": 5,
   "metadata": {},
   "outputs": [
    {
     "data": {
      "text/plain": [
       "17"
      ]
     },
     "execution_count": 5,
     "metadata": {},
     "output_type": "execute_result"
    }
   ],
   "source": [
    "tags = list(set(data[\"Tag\"].values))\n",
    "n_tags = len(tags); n_tags\n"
   ]
  },
  {
   "cell_type": "code",
   "execution_count": 6,
   "metadata": {},
   "outputs": [],
   "source": [
    "class SentenceGetter(object):\n",
    "    \n",
    "    def __init__(self, data):\n",
    "        self.n_sent = 1\n",
    "        self.data = data\n",
    "        self.empty = False\n",
    "        agg_func = lambda s: [(w, t) for w, t in zip(s[\"Word\"].values.tolist(),\n",
    "                                                           s[\"Tag\"].values.tolist())]\n",
    "        self.grouped = self.data.groupby(\"Sentence #\").apply(agg_func)\n",
    "        self.sentences = [s for s in self.grouped]\n",
    "    \n",
    "    def get_next(self):\n",
    "        try:\n",
    "            s = self.grouped[\"Sentence: {}\".format(self.n_sent)]\n",
    "            self.n_sent += 1\n",
    "            return s\n",
    "        except:\n",
    "            return None\n"
   ]
  },
  {
   "cell_type": "code",
   "execution_count": 7,
   "metadata": {},
   "outputs": [],
   "source": [
    "getter = SentenceGetter(data)\n"
   ]
  },
  {
   "cell_type": "code",
   "execution_count": 8,
   "metadata": {},
   "outputs": [],
   "source": [
    "sent = getter.get_next()\n"
   ]
  },
  {
   "cell_type": "code",
   "execution_count": 9,
   "metadata": {},
   "outputs": [
    {
     "name": "stdout",
     "output_type": "stream",
     "text": [
      "[('বাংলাদেশে', 'B-geo'), ('কক্সবাজার', 'B-geo'), ('এলাকায়', 'O'), ('রোহিঙ্গাদের', 'B-gpe'), ('জন্য', 'O'), ('নির্ধারিত', 'O'), ('আশ্রয়', 'O'), ('শিবিরের', 'O'), ('বাইরে', 'O'), ('বেরুলে', 'O'), ('তাদের', 'O'), ('গ্রেপ্তার', 'O'), ('করা', 'O'), ('হবে', 'O'), ('বলে', 'O'), ('জানিয়েছেন', 'O'), ('পুলিশের', 'O'), ('মহাপরিদর্শক', 'O'), ('একেএম', 'B-per'), ('শহীদুল', 'I-per'), ('হক', 'I-per')]\n"
     ]
    }
   ],
   "source": [
    "print(sent)\n"
   ]
  },
  {
   "cell_type": "code",
   "execution_count": 10,
   "metadata": {},
   "outputs": [],
   "source": [
    "sentences = getter.sentences\n"
   ]
  },
  {
   "cell_type": "code",
   "execution_count": 11,
   "metadata": {},
   "outputs": [],
   "source": [
    "max_len = 75\n",
    "max_len_char = 10\n"
   ]
  },
  {
   "cell_type": "code",
   "execution_count": 12,
   "metadata": {},
   "outputs": [],
   "source": [
    "word2idx = {w: i + 2 for i, w in enumerate(words)}\n",
    "word2idx[\"UNK\"] = 1\n",
    "word2idx[\"PAD\"] = 0\n",
    "idx2word = {i: w for w, i in word2idx.items()}\n",
    "tag2idx = {t: i + 1 for i, t in enumerate(tags)}\n",
    "tag2idx[\"PAD\"] = 0\n",
    "idx2tag = {i: w for w, i in tag2idx.items()}\n"
   ]
  },
  {
   "cell_type": "code",
   "execution_count": 13,
   "metadata": {},
   "outputs": [],
   "source": [
    "from keras.preprocessing.sequence import pad_sequences\n",
    "X_word = [[word2idx[w[0]] for w in s] for s in sentences]\n"
   ]
  },
  {
   "cell_type": "code",
   "execution_count": 14,
   "metadata": {},
   "outputs": [],
   "source": [
    "X_word = pad_sequences(maxlen=max_len, sequences=X_word, value=word2idx[\"PAD\"], padding='post', truncating='post')\n"
   ]
  },
  {
   "cell_type": "code",
   "execution_count": 15,
   "metadata": {},
   "outputs": [
    {
     "name": "stdout",
     "output_type": "stream",
     "text": [
      "144\n"
     ]
    }
   ],
   "source": [
    "chars = set([w_i for w in words for w_i in w])\n",
    "n_chars = len(chars)\n",
    "print(n_chars)\n"
   ]
  },
  {
   "cell_type": "code",
   "execution_count": 16,
   "metadata": {},
   "outputs": [],
   "source": [
    "char2idx = {c: i + 2 for i, c in enumerate(chars)}\n",
    "char2idx[\"UNK\"] = 1\n",
    "char2idx[\"PAD\"] = 0\n"
   ]
  },
  {
   "cell_type": "code",
   "execution_count": 17,
   "metadata": {},
   "outputs": [],
   "source": [
    "X_char = []\n",
    "for sentence in sentences:\n",
    "    sent_seq = []\n",
    "    for i in range(max_len):\n",
    "        word_seq = []\n",
    "        for j in range(max_len_char):\n",
    "            try:\n",
    "                word_seq.append(char2idx.get(sentence[i][0][j]))\n",
    "            except:\n",
    "                word_seq.append(char2idx.get(\"PAD\"))\n",
    "        sent_seq.append(word_seq)\n",
    "    X_char.append(np.array(sent_seq))\n",
    "    \n",
    "\n"
   ]
  },
  {
   "cell_type": "code",
   "execution_count": 18,
   "metadata": {},
   "outputs": [],
   "source": [
    "y = [[tag2idx[w[1]] for w in s] for s in sentences]\n"
   ]
  },
  {
   "cell_type": "code",
   "execution_count": 19,
   "metadata": {},
   "outputs": [],
   "source": [
    "y = pad_sequences(maxlen=max_len, sequences=y, value=tag2idx[\"PAD\"], padding='post', truncating='post')\n"
   ]
  },
  {
   "cell_type": "code",
   "execution_count": 20,
   "metadata": {},
   "outputs": [],
   "source": [
    "from sklearn.model_selection import train_test_split\n"
   ]
  },
  {
   "cell_type": "code",
   "execution_count": 21,
   "metadata": {},
   "outputs": [],
   "source": [
    "X_word_tr, X_word_te, y_tr, y_te = train_test_split(X_word, y, test_size=0.1, random_state=2018)\n",
    "X_char_tr, X_char_te, _, _ = train_test_split(X_char, y, test_size=0.1, random_state=2018)\n"
   ]
  },
  {
   "cell_type": "code",
   "execution_count": 22,
   "metadata": {},
   "outputs": [],
   "source": [
    "from keras.models import Model, Input\n",
    "from keras.layers import LSTM, Embedding, Dense, TimeDistributed, Dropout, Conv1D\n",
    "from keras.layers import Bidirectional, concatenate, SpatialDropout1D, GlobalMaxPooling1D\n"
   ]
  },
  {
   "cell_type": "code",
   "execution_count": 23,
   "metadata": {},
   "outputs": [],
   "source": [
    "# input and embedding for words\n",
    "word_in = Input(shape=(max_len,))\n",
    "emb_word = Embedding(input_dim=n_words + 2, output_dim=20,\n",
    "                     input_length=max_len, mask_zero=True)(word_in)\n",
    "\n",
    "# input and embeddings for characters\n",
    "char_in = Input(shape=(max_len, max_len_char,))\n",
    "emb_char = TimeDistributed(Embedding(input_dim=n_chars + 2, output_dim=10,\n",
    "                           input_length=max_len_char, mask_zero=True))(char_in)\n",
    "# character LSTM to get word encodings by characters\n",
    "char_enc = TimeDistributed(LSTM(units=20, return_sequences=False,\n",
    "                                recurrent_dropout=0.5))(emb_char)\n",
    "\n",
    "# main LSTM\n",
    "x = concatenate([emb_word, char_enc])\n",
    "x = SpatialDropout1D(0.3)(x)\n",
    "main_lstm = Bidirectional(LSTM(units=50, return_sequences=True,\n",
    "                               recurrent_dropout=0.6))(x)\n",
    "out = TimeDistributed(Dense(n_tags + 1, activation=\"sigmoid\"))(main_lstm)\n",
    "\n",
    "model = Model([word_in, char_in], out)\n"
   ]
  },
  {
   "cell_type": "code",
   "execution_count": 24,
   "metadata": {},
   "outputs": [],
   "source": [
    "model.compile(optimizer=\"adam\", loss=\"sparse_categorical_crossentropy\", metrics=[\"acc\"])\n"
   ]
  },
  {
   "cell_type": "code",
   "execution_count": 25,
   "metadata": {},
   "outputs": [
    {
     "name": "stdout",
     "output_type": "stream",
     "text": [
      "Model: \"model\"\n",
      "__________________________________________________________________________________________________\n",
      "Layer (type)                    Output Shape         Param #     Connected to                     \n",
      "==================================================================================================\n",
      "input_2 (InputLayer)            [(None, 75, 10)]     0                                            \n",
      "__________________________________________________________________________________________________\n",
      "input_1 (InputLayer)            [(None, 75)]         0                                            \n",
      "__________________________________________________________________________________________________\n",
      "time_distributed (TimeDistribut (None, 75, 10, 10)   1460        input_2[0][0]                    \n",
      "__________________________________________________________________________________________________\n",
      "embedding (Embedding)           (None, 75, 20)       684760      input_1[0][0]                    \n",
      "__________________________________________________________________________________________________\n",
      "time_distributed_1 (TimeDistrib (None, 75, 20)       2480        time_distributed[0][0]           \n",
      "__________________________________________________________________________________________________\n",
      "concatenate (Concatenate)       (None, 75, 40)       0           embedding[0][0]                  \n",
      "                                                                 time_distributed_1[0][0]         \n",
      "__________________________________________________________________________________________________\n",
      "spatial_dropout1d (SpatialDropo (None, 75, 40)       0           concatenate[0][0]                \n",
      "__________________________________________________________________________________________________\n",
      "bidirectional (Bidirectional)   (None, 75, 100)      36400       spatial_dropout1d[0][0]          \n",
      "__________________________________________________________________________________________________\n",
      "time_distributed_2 (TimeDistrib (None, 75, 18)       1818        bidirectional[0][0]              \n",
      "==================================================================================================\n",
      "Total params: 726,918\n",
      "Trainable params: 726,918\n",
      "Non-trainable params: 0\n",
      "__________________________________________________________________________________________________\n"
     ]
    }
   ],
   "source": [
    "model.summary()\n"
   ]
  },
  {
   "cell_type": "code",
   "execution_count": 26,
   "metadata": {},
   "outputs": [
    {
     "name": "stdout",
     "output_type": "stream",
     "text": [
      "Epoch 1/6\n",
      "561/561 [==============================] - 107s 173ms/step - loss: 0.2269 - acc: 0.8144 - val_loss: 0.0912 - val_acc: 0.8343\n",
      "Epoch 2/6\n",
      "561/561 [==============================] - 93s 166ms/step - loss: 0.0837 - acc: 0.8328 - val_loss: 0.0716 - val_acc: 0.8681\n",
      "Epoch 3/6\n",
      "561/561 [==============================] - 95s 169ms/step - loss: 0.0576 - acc: 0.8981 - val_loss: 0.0512 - val_acc: 0.9134\n",
      "Epoch 4/6\n",
      "561/561 [==============================] - 95s 170ms/step - loss: 0.0387 - acc: 0.9364 - val_loss: 0.0430 - val_acc: 0.9349\n",
      "Epoch 5/6\n",
      "561/561 [==============================] - 97s 173ms/step - loss: 0.0294 - acc: 0.9560 - val_loss: 0.0387 - val_acc: 0.9404\n",
      "Epoch 6/6\n",
      "561/561 [==============================] - 112s 200ms/step - loss: 0.0232 - acc: 0.9643 - val_loss: 0.0359 - val_acc: 0.9449\n"
     ]
    }
   ],
   "source": [
    "history = model.fit([X_word_tr,\n",
    "                     np.array(X_char_tr).reshape((len(X_char_tr), max_len, max_len_char))],\n",
    "                    np.array(y_tr).reshape(len(y_tr), max_len, 1),\n",
    "                    batch_size=32, epochs=6, validation_split=0.1, verbose=1)\n"
   ]
  },
  {
   "cell_type": "code",
   "execution_count": 27,
   "metadata": {},
   "outputs": [],
   "source": [
    "hist = pd.DataFrame(history.history)\n"
   ]
  },
  {
   "cell_type": "code",
   "execution_count": 28,
   "metadata": {},
   "outputs": [
    {
     "data": {
      "image/png": "[encoded data removed]",
      "text/plain": [
       "<Figure size 864x864 with 1 Axes>"
      ]
     },
     "metadata": {},
     "output_type": "display_data"
    }
   ],
   "source": [
    "import matplotlib.pyplot as plt\n",
    "plt.style.use(\"ggplot\")\n",
    "plt.figure(figsize=(12,12))\n",
    "plt.plot(hist[\"acc\"])\n",
    "plt.plot(hist[\"val_acc\"])\n",
    "plt.show()\n"
   ]
  },
  {
   "cell_type": "code",
   "execution_count": 29,
   "metadata": {},
   "outputs": [],
   "source": [
    "y_pred = model.predict([X_word_te,\n",
    "                        np.array(X_char_te).reshape((len(X_char_te),\n",
    "                                                     max_len, max_len_char))])\n"
   ]
  },
  {
   "cell_type": "code",
   "execution_count": 30,
   "metadata": {},
   "outputs": [
    {
     "name": "stdout",
     "output_type": "stream",
     "text": [
      "Word           ||True ||Pred\n",
      "==============================\n",
      "এমন            : O     O\n",
      "প্রশ্নে        : O     O\n",
      "আনিসুল         : B-per B-per\n",
      "হক             : I-per I-per\n",
      "বলেন           : O     O\n",
      "প্রধানমন্ত্রী  : B-per B-per\n",
      "শেখ            : I-per I-per\n",
      "হাসিনা         : I-per I-per\n",
      "মানবিক         : O     O\n",
      "বিষয়           : O     O\n",
      "বিবেচনা        : O     O\n",
      "করে            : O     O\n",
      "রোহিঙ্গাদের    : B-gpe B-gpe\n",
      "এ              : O     O\n",
      "দেশে           : O     O\n",
      "আশ্রয়          : O     O\n",
      "দিয়েছেন        : O     O\n"
     ]
    }
   ],
   "source": [
    "i = 1925\n",
    "p = np.argmax(y_pred[i], axis=-1)\n",
    "print(\"{:15}||{:5}||{}\".format(\"Word\", \"True\", \"Pred\"))\n",
    "print(30 * \"=\")\n",
    "for w, t, pred in zip(X_word_te[i], y_te[i], p):\n",
    "    if w != 0:\n",
    "        print(\"{:15}: {:5} {}\".format(idx2word[w], idx2tag[t], idx2tag[pred]))\n"
   ]
  },
  {
   "cell_type": "code",
   "execution_count": 31,
   "metadata": {},
   "outputs": [],
   "source": [
    "from seqeval.metrics import precision_score, recall_score, f1_score, classification_report\n",
    "\n",
    "# def pred2label(pred, orig_test=False):\n",
    "#     out = []\n",
    "#     for pred_i in pred:\n",
    "#         out_i = []\n",
    "#         for p in pred_i:\n",
    "#             if orig_test:\n",
    "#                 p_i = p\n",
    "#             else:\n",
    "#                 p_i = np.argmax(p)\n",
    "#                 out_i.append(idx2tag[p_i].replace(\"PAD\", \"O\"))\n",
    "#         out.append(out_i)\n",
    "#     return out\n",
    "   \n",
    "# pred_labels = pred2label(test_pred)\n",
    "# test_labels = pred2label(y_te)\n"
   ]
  },
  {
   "cell_type": "code",
   "execution_count": 32,
   "metadata": {},
   "outputs": [
    {
     "name": "stdout",
     "output_type": "stream",
     "text": [
      "70/70 [==============================] - 3s 36ms/step\n"
     ]
    }
   ],
   "source": [
    "test_pred = model.predict([X_word_te,\n",
    "                           np.array(X_char_te).reshape((len(X_char_te),\n",
    "                                                        max_len, max_len_char))], verbose=1)"
   ]
  },
  {
   "cell_type": "code",
   "execution_count": 33,
   "metadata": {},
   "outputs": [],
   "source": [
    "idx2tag = {i: w for w, i in tag2idx.items()}"
   ]
  },
  {
   "cell_type": "code",
   "execution_count": 34,
   "metadata": {},
   "outputs": [],
   "source": [
    "def pred2label(pred, orig_test=False):\n",
    "    out = []\n",
    "    for pred_i in pred:\n",
    "        out_i = []\n",
    "        for p in pred_i:\n",
    "            if orig_test:\n",
    "                p_i = p\n",
    "            else:\n",
    "                p_i = np.argmax(p)\n",
    "            out_i.append(idx2tag[p_i].replace(\"PAD\", \"O\"))\n",
    "        out.append(out_i)\n",
    "    return out\n",
    "   \n",
    "pred_labels = pred2label(test_pred)\n",
    "test_labels = pred2label(y_te, orig_test=True)"
   ]
  },
  {
   "cell_type": "code",
   "execution_count": 35,
   "metadata": {},
   "outputs": [
    {
     "name": "stdout",
     "output_type": "stream",
     "text": [
      "F1-score: 72.0%\n"
     ]
    }
   ],
   "source": [
    "print(\"F1-score: {:.1%}\".format(f1_score(test_labels, pred_labels)))"
   ]
  },
  {
   "cell_type": "code",
   "execution_count": 36,
   "metadata": {},
   "outputs": [
    {
     "name": "stdout",
     "output_type": "stream",
     "text": [
      "           precision    recall  f1-score   support\n",
      "\n",
      "      tim       0.82      0.82      0.82       472\n",
      "      per       0.74      0.67      0.71       987\n",
      "      geo       0.82      0.79      0.81       983\n",
      "      org       0.46      0.55      0.50       594\n",
      "      gpe       0.95      0.90      0.93       242\n",
      "      art       0.67      0.06      0.11        34\n",
      "      eve       0.00      0.00      0.00        41\n",
      "      nat       0.00      0.00      0.00         3\n",
      "\n",
      "micro avg       0.73      0.71      0.72      3356\n",
      "macro avg       0.73      0.71      0.72      3356\n",
      "\n"
     ]
    }
   ],
   "source": [
    "print(classification_report(test_labels, pred_labels))"
   ]
  },
  {
   "cell_type": "code",
   "execution_count": 37,
   "metadata": {},
   "outputs": [
    {
     "data": {
      "text/plain": [
       "array([[2.07310222e-07, 2.84809828e-01, 4.68773396e-06, ...,\n",
       "        2.07352329e-07, 6.96361226e-08, 9.44469502e-05],\n",
       "       [1.48071688e-08, 1.42695636e-01, 8.17967475e-07, ...,\n",
       "        1.81950668e-07, 1.31838185e-08, 1.53303918e-05],\n",
       "       [7.30798178e-09, 1.13881409e-01, 3.14340866e-07, ...,\n",
       "        2.79792602e-07, 2.22448504e-09, 6.67696349e-06],\n",
       "       ...,\n",
       "       [4.70613718e-01, 5.02320349e-01, 4.58317488e-01, ...,\n",
       "        4.43304986e-01, 4.66832101e-01, 4.34729606e-01],\n",
       "       [4.70613718e-01, 5.02320349e-01, 4.58317488e-01, ...,\n",
       "        4.43304986e-01, 4.66832101e-01, 4.34729606e-01],\n",
       "       [4.70613718e-01, 5.02320349e-01, 4.58317488e-01, ...,\n",
       "        4.43304986e-01, 4.66832101e-01, 4.34729606e-01]], dtype=float32)"
      ]
     },
     "execution_count": 37,
     "metadata": {},
     "output_type": "execute_result"
    }
   ],
   "source": [
    "test_pred[0]"
   ]
  },
  {
   "cell_type": "code",
   "execution_count": 38,
   "metadata": {},
   "outputs": [
    {
     "data": {
      "text/plain": [
       "array([ 1,  1,  1, 15,  1,  1,  1,  1,  1,  1,  1,  0,  0,  0,  0,  0,  0,\n",
       "        0,  0,  0,  0,  0,  0,  0,  0,  0,  0,  0,  0,  0,  0,  0,  0,  0,\n",
       "        0,  0,  0,  0,  0,  0,  0,  0,  0,  0,  0,  0,  0,  0,  0,  0,  0,\n",
       "        0,  0,  0,  0,  0,  0,  0,  0,  0,  0,  0,  0,  0,  0,  0,  0,  0,\n",
       "        0,  0,  0,  0,  0,  0,  0])"
      ]
     },
     "execution_count": 38,
     "metadata": {},
     "output_type": "execute_result"
    }
   ],
   "source": [
    "y_te[0]"
   ]
  },
  {
   "cell_type": "code",
   "execution_count": 39,
   "metadata": {},
   "outputs": [
    {
     "name": "stdout",
     "output_type": "stream",
     "text": [
      "আরো O O\n",
      "উন্নয়নের O O\n",
      "জন্য O O\n",
      "নূর B-per B-per\n",
      "ভাইকে O O\n",
      "আবারও O O\n",
      "নির্বাচিত O O\n",
      "করবে O O\n",
      "এলাকার O O\n",
      "সর্বস্তরের O O\n",
      "মানুষ O O\n",
      "PAD PAD O\n",
      "PAD PAD O\n",
      "PAD PAD O\n",
      "PAD PAD O\n",
      "PAD PAD O\n",
      "PAD PAD O\n",
      "PAD PAD O\n",
      "PAD PAD O\n",
      "PAD PAD O\n",
      "PAD PAD O\n",
      "PAD PAD O\n",
      "PAD PAD O\n",
      "PAD PAD O\n",
      "PAD PAD O\n",
      "PAD PAD O\n",
      "PAD PAD O\n",
      "PAD PAD O\n",
      "PAD PAD O\n",
      "PAD PAD O\n",
      "PAD PAD O\n",
      "PAD PAD O\n",
      "PAD PAD O\n",
      "PAD PAD O\n",
      "PAD PAD O\n",
      "PAD PAD O\n",
      "PAD PAD O\n",
      "PAD PAD O\n",
      "PAD PAD O\n",
      "PAD PAD O\n",
      "PAD PAD O\n",
      "PAD PAD O\n",
      "PAD PAD O\n",
      "PAD PAD O\n",
      "PAD PAD O\n",
      "PAD PAD O\n",
      "PAD PAD O\n",
      "PAD PAD O\n",
      "PAD PAD O\n",
      "PAD PAD O\n",
      "PAD PAD O\n",
      "PAD PAD O\n",
      "PAD PAD O\n",
      "PAD PAD O\n",
      "PAD PAD O\n",
      "PAD PAD O\n",
      "PAD PAD O\n",
      "PAD PAD O\n",
      "PAD PAD O\n",
      "PAD PAD O\n",
      "PAD PAD O\n",
      "PAD PAD O\n",
      "PAD PAD O\n",
      "PAD PAD O\n",
      "PAD PAD O\n",
      "PAD PAD O\n",
      "PAD PAD O\n",
      "PAD PAD O\n",
      "PAD PAD O\n",
      "PAD PAD O\n",
      "PAD PAD O\n",
      "PAD PAD O\n",
      "PAD PAD O\n",
      "PAD PAD O\n",
      "PAD PAD O\n"
     ]
    }
   ],
   "source": [
    "for word, label, pred in zip(X_word_te[0],y_te[0], test_pred[0]):\n",
    "    print(idx2word[word],idx2tag[label],idx2tag[np.argmax(pred)])"
   ]
  },
  {
   "cell_type": "code",
   "execution_count": null,
   "metadata": {},
   "outputs": [],
   "source": []
  }
 ],
 "metadata": {
  "kernelspec": {
   "display_name": "Python 3",
   "language": "python",
   "name": "python3"
  },
  "language_info": {
   "codemirror_mode": {
    "name": "ipython",
    "version": 3
   },
   "file_extension": ".py",
   "mimetype": "text/x-python",
   "name": "python",
   "nbconvert_exporter": "python",
   "pygments_lexer": "ipython3",
   "version": "3.8.3"
  }
 },
 "nbformat": 4,
 "nbformat_minor": 4
}
