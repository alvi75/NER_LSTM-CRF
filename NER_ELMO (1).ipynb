{
  "nbformat": 4,
  "nbformat_minor": 0,
  "metadata": {
    "accelerator": "GPU",
    "colab": {
      "name": "NER-ELMO.ipynb",
      "provenance": [],
      "collapsed_sections": []
    },
    "kernelspec": {
      "display_name": "Python 3",
      "language": "python",
      "name": "python3"
    },
    "language_info": {
      "codemirror_mode": {
        "name": "ipython",
        "version": 3
      },
      "file_extension": ".py",
      "mimetype": "text/x-python",
      "name": "python",
      "nbconvert_exporter": "python",
      "pygments_lexer": "ipython3",
      "version": "3.6.6"
    }
  },
  "cells": [
    {
      "cell_type": "code",
      "metadata": {
        "colab": {
          "base_uri": "https://localhost:8080/"
        },
        "id": "iZesUJaNwsfJ",
        "outputId": "e1da6b5c-7eac-4eef-c017-490875c6d35f"
      },
      "source": [
        "!pip install keras==2.3.1"
      ],
      "execution_count": 2,
      "outputs": [
        {
          "output_type": "stream",
          "text": [
            "Collecting keras==2.3.1\n",
            "\u001b[?25l  Downloading https://files.pythonhosted.org/packages/ad/fd/6bfe87920d7f4fd475acd28500a42482b6b84479832bdc0fe9e589a60ceb/Keras-2.3.1-py2.py3-none-any.whl (377kB)\n",
            "\r\u001b[K     |▉                               | 10kB 21.5MB/s eta 0:00:01\r\u001b[K     |█▊                              | 20kB 29.0MB/s eta 0:00:01\r\u001b[K     |██▋                             | 30kB 22.2MB/s eta 0:00:01\r\u001b[K     |███▌                            | 40kB 17.8MB/s eta 0:00:01\r\u001b[K     |████▍                           | 51kB 16.5MB/s eta 0:00:01\r\u001b[K     |█████▏                          | 61kB 14.1MB/s eta 0:00:01\r\u001b[K     |██████                          | 71kB 15.6MB/s eta 0:00:01\r\u001b[K     |███████                         | 81kB 15.3MB/s eta 0:00:01\r\u001b[K     |███████▉                        | 92kB 14.3MB/s eta 0:00:01\r\u001b[K     |████████▊                       | 102kB 15.5MB/s eta 0:00:01\r\u001b[K     |█████████▌                      | 112kB 15.5MB/s eta 0:00:01\r\u001b[K     |██████████▍                     | 122kB 15.5MB/s eta 0:00:01\r\u001b[K     |███████████▎                    | 133kB 15.5MB/s eta 0:00:01\r\u001b[K     |████████████▏                   | 143kB 15.5MB/s eta 0:00:01\r\u001b[K     |█████████████                   | 153kB 15.5MB/s eta 0:00:01\r\u001b[K     |█████████████▉                  | 163kB 15.5MB/s eta 0:00:01\r\u001b[K     |██████████████▊                 | 174kB 15.5MB/s eta 0:00:01\r\u001b[K     |███████████████▋                | 184kB 15.5MB/s eta 0:00:01\r\u001b[K     |████████████████▌               | 194kB 15.5MB/s eta 0:00:01\r\u001b[K     |█████████████████▍              | 204kB 15.5MB/s eta 0:00:01\r\u001b[K     |██████████████████▏             | 215kB 15.5MB/s eta 0:00:01\r\u001b[K     |███████████████████             | 225kB 15.5MB/s eta 0:00:01\r\u001b[K     |████████████████████            | 235kB 15.5MB/s eta 0:00:01\r\u001b[K     |████████████████████▉           | 245kB 15.5MB/s eta 0:00:01\r\u001b[K     |█████████████████████▊          | 256kB 15.5MB/s eta 0:00:01\r\u001b[K     |██████████████████████▌         | 266kB 15.5MB/s eta 0:00:01\r\u001b[K     |███████████████████████▍        | 276kB 15.5MB/s eta 0:00:01\r\u001b[K     |████████████████████████▎       | 286kB 15.5MB/s eta 0:00:01\r\u001b[K     |█████████████████████████▏      | 296kB 15.5MB/s eta 0:00:01\r\u001b[K     |██████████████████████████      | 307kB 15.5MB/s eta 0:00:01\r\u001b[K     |██████████████████████████▉     | 317kB 15.5MB/s eta 0:00:01\r\u001b[K     |███████████████████████████▊    | 327kB 15.5MB/s eta 0:00:01\r\u001b[K     |████████████████████████████▋   | 337kB 15.5MB/s eta 0:00:01\r\u001b[K     |█████████████████████████████▌  | 348kB 15.5MB/s eta 0:00:01\r\u001b[K     |██████████████████████████████▍ | 358kB 15.5MB/s eta 0:00:01\r\u001b[K     |███████████████████████████████▏| 368kB 15.5MB/s eta 0:00:01\r\u001b[K     |████████████████████████████████| 378kB 15.5MB/s \n",
            "\u001b[?25hRequirement already satisfied: six>=1.9.0 in /usr/local/lib/python3.7/dist-packages (from keras==2.3.1) (1.15.0)\n",
            "Collecting keras-applications>=1.0.6\n",
            "\u001b[?25l  Downloading https://files.pythonhosted.org/packages/71/e3/19762fdfc62877ae9102edf6342d71b28fbfd9dea3d2f96a882ce099b03f/Keras_Applications-1.0.8-py3-none-any.whl (50kB)\n",
            "\r\u001b[K     |██████▌                         | 10kB 32.9MB/s eta 0:00:01\r\u001b[K     |█████████████                   | 20kB 41.5MB/s eta 0:00:01\r\u001b[K     |███████████████████▍            | 30kB 47.7MB/s eta 0:00:01\r\u001b[K     |█████████████████████████▉      | 40kB 50.4MB/s eta 0:00:01\r\u001b[K     |████████████████████████████████| 51kB 8.0MB/s \n",
            "\u001b[?25hRequirement already satisfied: h5py in /usr/local/lib/python3.7/dist-packages (from keras==2.3.1) (2.10.0)\n",
            "Requirement already satisfied: numpy>=1.9.1 in /usr/local/lib/python3.7/dist-packages (from keras==2.3.1) (1.19.5)\n",
            "Requirement already satisfied: scipy>=0.14 in /usr/local/lib/python3.7/dist-packages (from keras==2.3.1) (1.4.1)\n",
            "Requirement already satisfied: keras-preprocessing>=1.0.5 in /usr/local/lib/python3.7/dist-packages (from keras==2.3.1) (1.1.2)\n",
            "Requirement already satisfied: pyyaml in /usr/local/lib/python3.7/dist-packages (from keras==2.3.1) (3.13)\n",
            "Installing collected packages: keras-applications, keras\n",
            "  Found existing installation: Keras 2.4.3\n",
            "    Uninstalling Keras-2.4.3:\n",
            "      Successfully uninstalled Keras-2.4.3\n",
            "Successfully installed keras-2.3.1 keras-applications-1.0.8\n"
          ],
          "name": "stdout"
        }
      ]
    },
    {
      "cell_type": "code",
      "metadata": {
        "colab": {
          "base_uri": "https://localhost:8080/"
        },
        "id": "ZBiVAIp-wsI_",
        "outputId": "afd4da81-1ea5-4d64-84be-c8cde6a86296"
      },
      "source": [
        "!pip install tensorflow==1.15.0"
      ],
      "execution_count": 3,
      "outputs": [
        {
          "output_type": "stream",
          "text": [
            "Collecting tensorflow==1.15.0\n",
            "\u001b[?25l  Downloading https://files.pythonhosted.org/packages/92/2b/e3af15221da9ff323521565fa3324b0d7c7c5b1d7a8ca66984c8d59cb0ce/tensorflow-1.15.0-cp37-cp37m-manylinux2010_x86_64.whl (412.3MB)\n",
            "\u001b[K     |████████████████████████████████| 412.3MB 35kB/s \n",
            "\u001b[?25hRequirement already satisfied: keras-preprocessing>=1.0.5 in /usr/local/lib/python3.7/dist-packages (from tensorflow==1.15.0) (1.1.2)\n",
            "Collecting gast==0.2.2\n",
            "  Downloading https://files.pythonhosted.org/packages/4e/35/11749bf99b2d4e3cceb4d55ca22590b0d7c2c62b9de38ac4a4a7f4687421/gast-0.2.2.tar.gz\n",
            "Requirement already satisfied: keras-applications>=1.0.8 in /usr/local/lib/python3.7/dist-packages (from tensorflow==1.15.0) (1.0.8)\n",
            "Requirement already satisfied: six>=1.10.0 in /usr/local/lib/python3.7/dist-packages (from tensorflow==1.15.0) (1.15.0)\n",
            "Requirement already satisfied: protobuf>=3.6.1 in /usr/local/lib/python3.7/dist-packages (from tensorflow==1.15.0) (3.12.4)\n",
            "Collecting tensorboard<1.16.0,>=1.15.0\n",
            "\u001b[?25l  Downloading https://files.pythonhosted.org/packages/1e/e9/d3d747a97f7188f48aa5eda486907f3b345cd409f0a0850468ba867db246/tensorboard-1.15.0-py3-none-any.whl (3.8MB)\n",
            "\u001b[K     |████████████████████████████████| 3.8MB 48.9MB/s \n",
            "\u001b[?25hRequirement already satisfied: absl-py>=0.7.0 in /usr/local/lib/python3.7/dist-packages (from tensorflow==1.15.0) (0.10.0)\n",
            "Requirement already satisfied: google-pasta>=0.1.6 in /usr/local/lib/python3.7/dist-packages (from tensorflow==1.15.0) (0.2.0)\n",
            "Requirement already satisfied: termcolor>=1.1.0 in /usr/local/lib/python3.7/dist-packages (from tensorflow==1.15.0) (1.1.0)\n",
            "Requirement already satisfied: numpy<2.0,>=1.16.0 in /usr/local/lib/python3.7/dist-packages (from tensorflow==1.15.0) (1.19.5)\n",
            "Collecting tensorflow-estimator==1.15.1\n",
            "\u001b[?25l  Downloading https://files.pythonhosted.org/packages/de/62/2ee9cd74c9fa2fa450877847ba560b260f5d0fb70ee0595203082dafcc9d/tensorflow_estimator-1.15.1-py2.py3-none-any.whl (503kB)\n",
            "\u001b[K     |████████████████████████████████| 512kB 39.6MB/s \n",
            "\u001b[?25hRequirement already satisfied: wheel>=0.26 in /usr/local/lib/python3.7/dist-packages (from tensorflow==1.15.0) (0.36.2)\n",
            "Requirement already satisfied: grpcio>=1.8.6 in /usr/local/lib/python3.7/dist-packages (from tensorflow==1.15.0) (1.32.0)\n",
            "Requirement already satisfied: astor>=0.6.0 in /usr/local/lib/python3.7/dist-packages (from tensorflow==1.15.0) (0.8.1)\n",
            "Requirement already satisfied: wrapt>=1.11.1 in /usr/local/lib/python3.7/dist-packages (from tensorflow==1.15.0) (1.12.1)\n",
            "Requirement already satisfied: opt-einsum>=2.3.2 in /usr/local/lib/python3.7/dist-packages (from tensorflow==1.15.0) (3.3.0)\n",
            "Requirement already satisfied: h5py in /usr/local/lib/python3.7/dist-packages (from keras-applications>=1.0.8->tensorflow==1.15.0) (2.10.0)\n",
            "Requirement already satisfied: setuptools in /usr/local/lib/python3.7/dist-packages (from protobuf>=3.6.1->tensorflow==1.15.0) (54.0.0)\n",
            "Requirement already satisfied: werkzeug>=0.11.15 in /usr/local/lib/python3.7/dist-packages (from tensorboard<1.16.0,>=1.15.0->tensorflow==1.15.0) (1.0.1)\n",
            "Requirement already satisfied: markdown>=2.6.8 in /usr/local/lib/python3.7/dist-packages (from tensorboard<1.16.0,>=1.15.0->tensorflow==1.15.0) (3.3.4)\n",
            "Requirement already satisfied: importlib-metadata; python_version < \"3.8\" in /usr/local/lib/python3.7/dist-packages (from markdown>=2.6.8->tensorboard<1.16.0,>=1.15.0->tensorflow==1.15.0) (3.7.0)\n",
            "Requirement already satisfied: zipp>=0.5 in /usr/local/lib/python3.7/dist-packages (from importlib-metadata; python_version < \"3.8\"->markdown>=2.6.8->tensorboard<1.16.0,>=1.15.0->tensorflow==1.15.0) (3.4.1)\n",
            "Requirement already satisfied: typing-extensions>=3.6.4; python_version < \"3.8\" in /usr/local/lib/python3.7/dist-packages (from importlib-metadata; python_version < \"3.8\"->markdown>=2.6.8->tensorboard<1.16.0,>=1.15.0->tensorflow==1.15.0) (3.7.4.3)\n",
            "Building wheels for collected packages: gast\n",
            "  Building wheel for gast (setup.py) ... \u001b[?25l\u001b[?25hdone\n",
            "  Created wheel for gast: filename=gast-0.2.2-cp37-none-any.whl size=7540 sha256=98b7fe38b65c85725a4cfd45b3bb9d080856f54bd338afaa4195b2ed8947ea88\n",
            "  Stored in directory: /root/.cache/pip/wheels/5c/2e/7e/a1d4d4fcebe6c381f378ce7743a3ced3699feb89bcfbdadadd\n",
            "Successfully built gast\n",
            "\u001b[31mERROR: tensorflow-probability 0.12.1 has requirement gast>=0.3.2, but you'll have gast 0.2.2 which is incompatible.\u001b[0m\n",
            "Installing collected packages: gast, tensorboard, tensorflow-estimator, tensorflow\n",
            "  Found existing installation: gast 0.3.3\n",
            "    Uninstalling gast-0.3.3:\n",
            "      Successfully uninstalled gast-0.3.3\n",
            "  Found existing installation: tensorboard 2.4.1\n",
            "    Uninstalling tensorboard-2.4.1:\n",
            "      Successfully uninstalled tensorboard-2.4.1\n",
            "  Found existing installation: tensorflow-estimator 2.4.0\n",
            "    Uninstalling tensorflow-estimator-2.4.0:\n",
            "      Successfully uninstalled tensorflow-estimator-2.4.0\n",
            "  Found existing installation: tensorflow 2.4.1\n",
            "    Uninstalling tensorflow-2.4.1:\n",
            "      Successfully uninstalled tensorflow-2.4.1\n",
            "Successfully installed gast-0.2.2 tensorboard-1.15.0 tensorflow-1.15.0 tensorflow-estimator-1.15.1\n"
          ],
          "name": "stdout"
        }
      ]
    },
    {
      "cell_type": "code",
      "metadata": {
        "colab": {
          "base_uri": "https://localhost:8080/"
        },
        "id": "ndiDqEyNv_ET",
        "outputId": "879b24a4-049c-4dfa-eb65-56f48f86c6e2"
      },
      "source": [
        "import pandas as pd\n",
        "import numpy as np\n",
        "import matplotlib.pyplot as plt\n",
        "plt.style.use(\"ggplot\")\n",
        "from sklearn.model_selection import train_test_split\n",
        "import tensorflow as tf\n",
        "import tensorflow_hub as hub\n",
        "from keras import backend as K\n",
        "from keras.models import Model, Input\n",
        "from keras.layers.merge import add\n",
        "from keras.layers import LSTM, Embedding, Dense, TimeDistributed, Dropout, Bidirectional, Lambda\n",
        "\n",
        "data = pd.read_csv(r\"/content/drive/MyDrive/Data/ner_dataset.csv\", encoding=\"latin1\")\n",
        "data = data.fillna(method=\"ffill\")\n",
        "print(data.tail(10))\n",
        "\n",
        "class SentenceGetter(object):\n",
        "    def __init__(self, data):\n",
        "        self.n_sent = 1\n",
        "        self.data = data\n",
        "        self.empty = False\n",
        "        agg_func = lambda s: [(w, t) for w, t in zip(s[\"Word\"].values.tolist(),\n",
        "                                                           \n",
        "                                                           s[\"Tag\"].values.tolist())]\n",
        "        self.grouped = self.data.groupby(\"Sentence #\").apply(agg_func)\n",
        "        self.sentences = [s for s in self.grouped]\n",
        "\n",
        "    def get_next(self):\n",
        "        try:\n",
        "            s = self.grouped[\"Sentence: {}\".format(self.n_sent)]\n",
        "            self.n_sent += 1\n",
        "            return s\n",
        "        except:\n",
        "            return None\n",
        "\n",
        "\n",
        "\n",
        "\n",
        "words = list(set(data[\"Word\"].values))\n",
        "words.append(\"ENDPAD\")\n",
        "n_words = len(words)\n",
        "tags = list(set(data[\"Tag\"].values))\n",
        "n_tags = len(tags)\n",
        "getter = SentenceGetter(data)\n",
        "sent = getter.get_next()\n",
        "print(sent)\n",
        "sentences = getter.sentences\n",
        "max_len = 50\n",
        "tag2idx = {t: i for i, t in enumerate(tags)}\n",
        "X = [[w[0] for w in s] for s in sentences]\n",
        "new_X = []\n",
        "for seq in X:\n",
        "    new_seq = []\n",
        "    for i in range(max_len):\n",
        "        try:\n",
        "            new_seq.append(seq[i])\n",
        "        except:\n",
        "            new_seq.append(\"__PAD__\")\n",
        "    new_X.append(new_seq)\n",
        "X = new_X\n",
        "print(X[1])\n",
        "\n",
        "y = [[tag2idx[w[1]] for w in s] for s in sentences]\n",
        "from keras.preprocessing.sequence import pad_sequences\n",
        "y = pad_sequences(maxlen=max_len, sequences=y, padding=\"post\", value=tag2idx[\"O\"])\n",
        "print(y[1])\n",
        "\n",
        "X_tr, X_te, y_tr, y_te = train_test_split(X, y, test_size=0.1, random_state=2018)\n",
        "batch_size = 32\n",
        "sess = tf.Session()\n",
        "K.set_session(sess)\n"
      ],
      "execution_count": 4,
      "outputs": [
        {
          "output_type": "stream",
          "text": [
            "Using TensorFlow backend.\n"
          ],
          "name": "stderr"
        },
        {
          "output_type": "stream",
          "text": [
            "              Sentence #       Word  POS    Tag\n",
            "1048565  Sentence: 47958     impact   NN      O\n",
            "1048566  Sentence: 47958          .    .      O\n",
            "1048567  Sentence: 47959     Indian   JJ  B-gpe\n",
            "1048568  Sentence: 47959     forces  NNS      O\n",
            "1048569  Sentence: 47959       said  VBD      O\n",
            "1048570  Sentence: 47959       they  PRP      O\n",
            "1048571  Sentence: 47959  responded  VBD      O\n",
            "1048572  Sentence: 47959         to   TO      O\n",
            "1048573  Sentence: 47959        the   DT      O\n",
            "1048574  Sentence: 47959     attack   NN      O\n",
            "[('Thousands', 'O'), ('of', 'O'), ('demonstrators', 'O'), ('have', 'O'), ('marched', 'O'), ('through', 'O'), ('London', 'B-geo'), ('to', 'O'), ('protest', 'O'), ('the', 'O'), ('war', 'O'), ('in', 'O'), ('Iraq', 'B-geo'), ('and', 'O'), ('demand', 'O'), ('the', 'O'), ('withdrawal', 'O'), ('of', 'O'), ('British', 'B-gpe'), ('troops', 'O'), ('from', 'O'), ('that', 'O'), ('country', 'O'), ('.', 'O')]\n",
            "['Iranian', 'officials', 'say', 'they', 'expect', 'to', 'get', 'access', 'to', 'sealed', 'sensitive', 'parts', 'of', 'the', 'plant', 'Wednesday', ',', 'after', 'an', 'IAEA', 'surveillance', 'system', 'begins', 'functioning', '.', '__PAD__', '__PAD__', '__PAD__', '__PAD__', '__PAD__', '__PAD__', '__PAD__', '__PAD__', '__PAD__', '__PAD__', '__PAD__', '__PAD__', '__PAD__', '__PAD__', '__PAD__', '__PAD__', '__PAD__', '__PAD__', '__PAD__', '__PAD__', '__PAD__', '__PAD__', '__PAD__', '__PAD__', '__PAD__']\n",
            "[ 3  7  7  7  7  7  7  7  7  7  7  7  7  7  7 11  7  7  7  0  7  7  7  7\n",
            "  7  7  7  7  7  7  7  7  7  7  7  7  7  7  7  7  7  7  7  7  7  7  7  7\n",
            "  7  7]\n"
          ],
          "name": "stdout"
        }
      ]
    },
    {
      "cell_type": "code",
      "metadata": {
        "id": "XSDCYS03v_Er"
      },
      "source": [
        "\n",
        "elmo_model = hub.Module(\"https://tfhub.dev/google/elmo/3\", trainable=True)\n",
        "sess.run(tf.global_variables_initializer())\n",
        "sess.run(tf.tables_initializer())\n"
      ],
      "execution_count": 5,
      "outputs": []
    },
    {
      "cell_type": "code",
      "metadata": {
        "colab": {
          "base_uri": "https://localhost:8080/"
        },
        "id": "fM0hu4e5v_Es",
        "outputId": "16fa215f-89c4-493a-ecd2-5fc9b69be558"
      },
      "source": [
        "\n",
        "def ElmoEmbedding(x):\n",
        "    return elmo_model(inputs={\n",
        "                            \"tokens\": tf.squeeze(tf.cast(x, 'string')),\n",
        "                            \"sequence_len\": tf.constant(batch_size*[max_len])\n",
        "                      },\n",
        "                      signature=\"tokens\",\n",
        "                      as_dict=True)[\"elmo\"]\n",
        "\n",
        "input_text = Input(shape=(max_len,), dtype='string')\n",
        "embedding = Lambda(ElmoEmbedding, output_shape=(max_len, 1024))(input_text)\n",
        "x = Bidirectional(LSTM(units=512, return_sequences=True,\n",
        "                       recurrent_dropout=0.2, dropout=0.2))(embedding)\n",
        "x_rnn = Bidirectional(LSTM(units=512, return_sequences=True,\n",
        "                           recurrent_dropout=0.2, dropout=0.2))(x)\n",
        "x = add([x, x_rnn])  # residual connection to the first biLSTM\n",
        "out = TimeDistributed(Dense(n_tags, activation=\"softmax\"))(x)"
      ],
      "execution_count": 6,
      "outputs": [
        {
          "output_type": "stream",
          "text": [
            "INFO:tensorflow:Saver not created because there are no variables in the graph to restore\n"
          ],
          "name": "stdout"
        },
        {
          "output_type": "stream",
          "text": [
            "INFO:tensorflow:Saver not created because there are no variables in the graph to restore\n"
          ],
          "name": "stderr"
        },
        {
          "output_type": "stream",
          "text": [
            "WARNING:tensorflow:From /usr/local/lib/python3.7/dist-packages/tensorflow_core/python/ops/resource_variable_ops.py:1630: calling BaseResourceVariable.__init__ (from tensorflow.python.ops.resource_variable_ops) with constraint is deprecated and will be removed in a future version.\n",
            "Instructions for updating:\n",
            "If using Keras pass *_constraint arguments to layers.\n"
          ],
          "name": "stdout"
        },
        {
          "output_type": "stream",
          "text": [
            "WARNING:tensorflow:From /usr/local/lib/python3.7/dist-packages/tensorflow_core/python/ops/resource_variable_ops.py:1630: calling BaseResourceVariable.__init__ (from tensorflow.python.ops.resource_variable_ops) with constraint is deprecated and will be removed in a future version.\n",
            "Instructions for updating:\n",
            "If using Keras pass *_constraint arguments to layers.\n"
          ],
          "name": "stderr"
        }
      ]
    },
    {
      "cell_type": "code",
      "metadata": {
        "colab": {
          "base_uri": "https://localhost:8080/"
        },
        "id": "IqaGnaBev_Es",
        "outputId": "939f4c9c-baca-4993-8237-a7773fa4668a"
      },
      "source": [
        "model = Model(input_text, out)\n",
        "model.compile(optimizer=\"adam\", loss=\"sparse_categorical_crossentropy\", metrics=[\"accuracy\"])\n",
        "X_tr, X_val = X_tr[:1213*batch_size], X_tr[-135*batch_size:]\n",
        "y_tr, y_val = y_tr[:1213*batch_size], y_tr[-135*batch_size:]\n",
        "y_tr = y_tr.reshape(y_tr.shape[0], y_tr.shape[1], 1)\n",
        "y_val = y_val.reshape(y_val.shape[0], y_val.shape[1], 1)\n",
        "\n",
        "history = model.fit(np.array(X_tr), y_tr, validation_data=(np.array(X_val), y_val), \n",
        "                 batch_size=batch_size, epochs=3, verbose=1) "
      ],
      "execution_count": 7,
      "outputs": [
        {
          "output_type": "stream",
          "text": [
            "WARNING:tensorflow:From /usr/local/lib/python3.7/dist-packages/tensorflow_core/python/ops/math_grad.py:1424: where (from tensorflow.python.ops.array_ops) is deprecated and will be removed in a future version.\n",
            "Instructions for updating:\n",
            "Use tf.where in 2.0, which has the same broadcast rule as np.where\n"
          ],
          "name": "stdout"
        },
        {
          "output_type": "stream",
          "text": [
            "WARNING:tensorflow:From /usr/local/lib/python3.7/dist-packages/tensorflow_core/python/ops/math_grad.py:1424: where (from tensorflow.python.ops.array_ops) is deprecated and will be removed in a future version.\n",
            "Instructions for updating:\n",
            "Use tf.where in 2.0, which has the same broadcast rule as np.where\n"
          ],
          "name": "stderr"
        },
        {
          "output_type": "stream",
          "text": [
            "WARNING:tensorflow:From /usr/local/lib/python3.7/dist-packages/keras/backend/tensorflow_backend.py:422: The name tf.global_variables is deprecated. Please use tf.compat.v1.global_variables instead.\n",
            "\n"
          ],
          "name": "stdout"
        },
        {
          "output_type": "stream",
          "text": [
            "WARNING:tensorflow:From /usr/local/lib/python3.7/dist-packages/keras/backend/tensorflow_backend.py:422: The name tf.global_variables is deprecated. Please use tf.compat.v1.global_variables instead.\n",
            "\n"
          ],
          "name": "stderr"
        },
        {
          "output_type": "stream",
          "text": [
            "WARNING:tensorflow:From /usr/local/lib/python3.7/dist-packages/keras/backend/tensorflow_backend.py:431: The name tf.is_variable_initialized is deprecated. Please use tf.compat.v1.is_variable_initialized instead.\n",
            "\n"
          ],
          "name": "stdout"
        },
        {
          "output_type": "stream",
          "text": [
            "WARNING:tensorflow:From /usr/local/lib/python3.7/dist-packages/keras/backend/tensorflow_backend.py:431: The name tf.is_variable_initialized is deprecated. Please use tf.compat.v1.is_variable_initialized instead.\n",
            "\n"
          ],
          "name": "stderr"
        },
        {
          "output_type": "stream",
          "text": [
            "Train on 38816 samples, validate on 4320 samples\n",
            "Epoch 1/3\n",
            "38816/38816 [==============================] - 389s 10ms/step - loss: 0.0629 - accuracy: 0.9818 - val_loss: 0.0448 - val_accuracy: 0.9860\n",
            "Epoch 2/3\n",
            "38816/38816 [==============================] - 378s 10ms/step - loss: 0.0411 - accuracy: 0.9867 - val_loss: 0.0420 - val_accuracy: 0.9864\n",
            "Epoch 3/3\n",
            "38816/38816 [==============================] - 377s 10ms/step - loss: 0.0345 - accuracy: 0.9883 - val_loss: 0.0407 - val_accuracy: 0.9871\n"
          ],
          "name": "stdout"
        }
      ]
    },
    {
      "cell_type": "code",
      "metadata": {
        "colab": {
          "base_uri": "https://localhost:8080/"
        },
        "id": "Kv2R_XI_v_Et",
        "outputId": "1a678fcd-b8d3-4d0c-f8be-2962c9a86c0b"
      },
      "source": [
        "i = 390\n",
        "p = model.predict(np.array(X_te[i:i+batch_size]))[0]\n",
        "p = np.argmax(p, axis=-1)\n",
        "print(\"{:15} {:5}: ({})\".format(\"Word\", \"Pred\", \"True\"))\n",
        "print(\"=\"*30)\n",
        "for w, true, pred in zip(X_te[i], y_te[i], p):\n",
        "    if w != \"__PAD__\":\n",
        "        print(\"{:15}:{:5} ({})\".format(w, tags[pred], tags[true]))"
      ],
      "execution_count": 8,
      "outputs": [
        {
          "output_type": "stream",
          "text": [
            "Word            Pred : (True)\n",
            "==============================\n",
            "Citing         :O     (O)\n",
            "a              :O     (O)\n",
            "draft          :O     (O)\n",
            "report         :O     (O)\n",
            "from           :O     (O)\n",
            "the            :O     (O)\n",
            "U.S.           :B-org (B-org)\n",
            "Government     :I-org (I-org)\n",
            "Accountability :I-org (O)\n",
            "office         :O     (O)\n",
            ",              :O     (O)\n",
            "The            :B-org (B-org)\n",
            "New            :I-org (I-org)\n",
            "York           :I-org (I-org)\n",
            "Times          :I-org (I-org)\n",
            "said           :O     (O)\n",
            "Saturday       :B-tim (B-tim)\n",
            "the            :O     (O)\n",
            "losses         :O     (O)\n",
            "amount         :O     (O)\n",
            "to             :O     (O)\n",
            "between        :O     (O)\n",
            "1,00,000       :O     (O)\n",
            "and            :O     (O)\n",
            "3,00,000       :O     (O)\n",
            "barrels        :O     (O)\n",
            "a              :O     (O)\n",
            "day            :O     (O)\n",
            "of             :I-tim (O)\n",
            "Iraq           :B-geo (B-geo)\n",
            "'s             :O     (O)\n",
            "declared       :O     (O)\n",
            "oil            :O     (O)\n",
            "production     :O     (O)\n",
            "over           :O     (O)\n",
            "the            :O     (O)\n",
            "past           :B-tim (B-tim)\n",
            "four           :I-tim (I-tim)\n",
            "years          :O     (O)\n",
            ".              :O     (O)\n"
          ],
          "name": "stdout"
        }
      ]
    },
    {
      "cell_type": "code",
      "metadata": {
        "id": "xVagjR45v_Et",
        "scrolled": true
      },
      "source": [
        "import pickle\n",
        "pickle.dump(model, open('model', 'wb'))"
      ],
      "execution_count": 14,
      "outputs": []
    },
    {
      "cell_type": "code",
      "metadata": {
        "id": "Z0C4f3oPBDYS"
      },
      "source": [
        "hist = pd.DataFrame(history.history)\r\n"
      ],
      "execution_count": 10,
      "outputs": []
    },
    {
      "cell_type": "code",
      "metadata": {
        "colab": {
          "base_uri": "https://localhost:8080/",
          "height": 734
        },
        "id": "K80RoeWmDDCQ",
        "outputId": "07e1bb50-a7eb-45c1-9197-e04a8b4b3671"
      },
      "source": [
        "plt.figure(figsize=(12,12))\r\n",
        "plt.plot(hist[\"accuracy\"])\r\n",
        "plt.plot(hist[\"val_accuracy\"])\r\n",
        "plt.title(\"Learning curves\")\r\n",
        "plt.legend()\r\n",
        "plt.show()\r\n"
      ],
      "execution_count": 11,
      "outputs": [
        {
          "output_type": "stream",
          "text": [
            "WARNING:matplotlib.legend:No handles with labels found to put in legend.\n"
          ],
          "name": "stderr"
        },
        {
          "output_type": "display_data",
          "data": {
            "image/png": "[encoded data removed]",
            "text/plain": [
              "<Figure size 864x864 with 1 Axes>"
            ]
          },
          "metadata": {
            "tags": []
          }
        }
      ]
    },
    {
      "cell_type": "code",
      "metadata": {
        "colab": {
          "base_uri": "https://localhost:8080/"
        },
        "id": "jamxhZFjhsUU",
        "outputId": "d8ecbed1-61de-4979-aa33-8e25b6b0d295"
      },
      "source": [
        "!pip install seqeval"
      ],
      "execution_count": 15,
      "outputs": [
        {
          "output_type": "stream",
          "text": [
            "Collecting seqeval\n",
            "\u001b[?25l  Downloading https://files.pythonhosted.org/packages/9d/2d/233c79d5b4e5ab1dbf111242299153f3caddddbb691219f363ad55ce783d/seqeval-1.2.2.tar.gz (43kB)\n",
            "\r\u001b[K     |███████▌                        | 10kB 24.4MB/s eta 0:00:01\r\u001b[K     |███████████████                 | 20kB 15.5MB/s eta 0:00:01\r\u001b[K     |██████████████████████▌         | 30kB 10.3MB/s eta 0:00:01\r\u001b[K     |██████████████████████████████  | 40kB 9.0MB/s eta 0:00:01\r\u001b[K     |████████████████████████████████| 51kB 4.9MB/s \n",
            "\u001b[?25hRequirement already satisfied: numpy>=1.14.0 in /usr/local/lib/python3.7/dist-packages (from seqeval) (1.19.5)\n",
            "Requirement already satisfied: scikit-learn>=0.21.3 in /usr/local/lib/python3.7/dist-packages (from seqeval) (0.22.2.post1)\n",
            "Requirement already satisfied: joblib>=0.11 in /usr/local/lib/python3.7/dist-packages (from scikit-learn>=0.21.3->seqeval) (1.0.1)\n",
            "Requirement already satisfied: scipy>=0.17.0 in /usr/local/lib/python3.7/dist-packages (from scikit-learn>=0.21.3->seqeval) (1.4.1)\n",
            "Building wheels for collected packages: seqeval\n",
            "  Building wheel for seqeval (setup.py) ... \u001b[?25l\u001b[?25hdone\n",
            "  Created wheel for seqeval: filename=seqeval-1.2.2-cp37-none-any.whl size=16172 sha256=877da62b47679bdf9103107494731583b6c44b5287b76f6ef845692b508816c0\n",
            "  Stored in directory: /root/.cache/pip/wheels/52/df/1b/45d75646c37428f7e626214704a0e35bd3cfc32eda37e59e5f\n",
            "Successfully built seqeval\n",
            "Installing collected packages: seqeval\n",
            "Successfully installed seqeval-1.2.2\n"
          ],
          "name": "stdout"
        }
      ]
    },
    {
      "cell_type": "code",
      "metadata": {
        "colab": {
          "base_uri": "https://localhost:8080/"
        },
        "id": "Nc4sQSt1ikuj",
        "outputId": "c44b31f4-88de-40ff-efff-1fb9f982ecc1"
      },
      "source": [
        "\r\n",
        "words = list(set(data[\"Word\"].values))\r\n",
        "words.append(\"ENDPAD\")\r\n",
        "n_words = len(words); n_words"
      ],
      "execution_count": 17,
      "outputs": [
        {
          "output_type": "execute_result",
          "data": {
            "text/plain": [
              "35179"
            ]
          },
          "metadata": {
            "tags": []
          },
          "execution_count": 17
        }
      ]
    },
    {
      "cell_type": "code",
      "metadata": {
        "colab": {
          "base_uri": "https://localhost:8080/"
        },
        "id": "xDHdstwMinOE",
        "outputId": "a42aba97-7dfd-4123-adf4-6ceec223d7e8"
      },
      "source": [
        "tags = list(set(data[\"Tag\"].values))\r\n",
        "n_tags = len(tags); n_tags\r\n"
      ],
      "execution_count": 18,
      "outputs": [
        {
          "output_type": "execute_result",
          "data": {
            "text/plain": [
              "17"
            ]
          },
          "metadata": {
            "tags": []
          },
          "execution_count": 18
        }
      ]
    },
    {
      "cell_type": "code",
      "metadata": {
        "id": "kF6yAXi1iq95"
      },
      "source": [
        "max_len = 75\r\n",
        "word2idx = {w: i + 1 for i, w in enumerate(words)}\r\n",
        "tag2idx = {t: i for i, t in enumerate(tags)}\r\n"
      ],
      "execution_count": 19,
      "outputs": []
    },
    {
      "cell_type": "code",
      "metadata": {
        "colab": {
          "base_uri": "https://localhost:8080/"
        },
        "id": "_e45qzF9Regd",
        "outputId": "4314b737-9989-4bdc-cbb5-2471fd8bbc02"
      },
      "source": [
        "from seqeval.metrics import precision_score, recall_score, f1_score, classification_report\r\n",
        "X_te = X_te[:149*batch_size]\r\n",
        "test_pred = model.predict(np.array(X_te), verbose=1)\r\n",
        "idx2tag = {i: w for w, i in tag2idx.items()}\r\n",
        "def pred2label(pred):\r\n",
        "    out = []\r\n",
        "    for pred_i in pred:\r\n",
        "        out_i = []\r\n",
        "        for p in pred_i:\r\n",
        "            p_i = np.argmax(p)\r\n",
        "            out_i.append(idx2tag[p_i].replace(\"PADword\", \"O\"))\r\n",
        "        out.append(out_i)\r\n",
        "    return out\r\n",
        "def test2label(pred):\r\n",
        "    out = []\r\n",
        "    for pred_i in pred:\r\n",
        "        out_i = []\r\n",
        "        for p in pred_i:\r\n",
        "            out_i.append(idx2tag[p].replace(\"PADword\", \"O\"))\r\n",
        "        out.append(out_i)\r\n",
        "    return out\r\n",
        "    \r\n",
        "pred_labels = pred2label(test_pred)\r\n",
        "test_labels = test2label(y_te[:149*32])\r\n",
        "print(classification_report(test_labels, pred_labels))"
      ],
      "execution_count": 21,
      "outputs": [
        {
          "output_type": "stream",
          "text": [
            "4768/4768 [==============================] - 32s 7ms/step\n",
            "              precision    recall  f1-score   support\n",
            "\n",
            "         art       0.50      0.10      0.17        49\n",
            "         eve       0.20      0.24      0.22        33\n",
            "         geo       0.83      0.90      0.87      3720\n",
            "         gpe       0.97      0.93      0.95      1591\n",
            "         nat       0.35      0.27      0.31        22\n",
            "         org       0.70      0.66      0.68      2061\n",
            "         per       0.76      0.79      0.77      1677\n",
            "         tim       0.87      0.86      0.86      2148\n",
            "\n",
            "   micro avg       0.82      0.83      0.83     11301\n",
            "   macro avg       0.65      0.59      0.60     11301\n",
            "weighted avg       0.82      0.83      0.82     11301\n",
            "\n"
          ],
          "name": "stdout"
        }
      ]
    },
    {
      "cell_type": "code",
      "metadata": {
        "id": "aYCxu87qhwqR"
      },
      "source": [
        ""
      ],
      "execution_count": null,
      "outputs": []
    }
  ]
}